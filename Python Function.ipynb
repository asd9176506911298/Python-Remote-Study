{
 "cells": [
  {
   "cell_type": "code",
   "execution_count": 3,
   "metadata": {},
   "outputs": [
    {
     "name": "stdout",
     "output_type": "stream",
     "text": [
      "(1, 2, 3, 4, 5)\n"
     ]
    }
   ],
   "source": [
    "def func(*arg):\n",
    "    print(arg)\n",
    "    \n",
    "func(1, 2, 3, 4, 5)"
   ]
  },
  {
   "cell_type": "code",
   "execution_count": 6,
   "metadata": {},
   "outputs": [
    {
     "name": "stdout",
     "output_type": "stream",
     "text": [
      "{'a': 1, 'b': 2, 'c': 3, 'd': 4, 'e': 5}\n"
     ]
    }
   ],
   "source": [
    "def func(**arg):\n",
    "    print(arg)\n",
    "    \n",
    "func(a=1, b=2, c=3, d=4, e=5)"
   ]
  },
  {
   "cell_type": "code",
   "execution_count": 128,
   "metadata": {},
   "outputs": [
    {
     "name": "stdout",
     "output_type": "stream",
     "text": [
      "Name     Grace\n",
      "Quantity 3\n",
      "Class    1A\n",
      "Elective Mandarin,English,Mathematics\n",
      "Type     必修\n",
      "Score    [59, 72, 98]\n",
      "- - - - - - - - - - - - - - - \n",
      "Name     Edward\n",
      "Quantity 2\n",
      "Class    1B\n",
      "Elective Computer,Python\n",
      "Type     選修\n",
      "Score    [77, 88]\n",
      "- - - - - - - - - - - - - - - \n"
     ]
    }
   ],
   "source": [
    "def s(name, *score, number = 2,**p):\n",
    "    print('%-8s %s' % ('Name', name))\n",
    "    print('%-8s %s' % ('Quantity', number))\n",
    "    for key in sorted(p):\n",
    "        print('%-8s %s' % (key, p[key]))\n",
    "    \n",
    "    print('%-8s %s' % ('Score', list(sorted(score))))\n",
    "    print('- ' * 15)\n",
    "\n",
    "\n",
    "s('Grace',59,98,72,number=3,Class='1A',Type='必修',\n",
    "  Elective='Mandarin,English,Mathematics')\n",
    "\n",
    "s(\"Edward\",88,77,Class=\"1B\",Type=\"選修\",\n",
    "  Elective=\"Computer,Python\")"
   ]
  }
 ],
 "metadata": {
  "kernelspec": {
   "display_name": "Python 3",
   "language": "python",
   "name": "python3"
  },
  "language_info": {
   "codemirror_mode": {
    "name": "ipython",
    "version": 3
   },
   "file_extension": ".py",
   "mimetype": "text/x-python",
   "name": "python",
   "nbconvert_exporter": "python",
   "pygments_lexer": "ipython3",
   "version": "3.8.5"
  }
 },
 "nbformat": 4,
 "nbformat_minor": 4
}

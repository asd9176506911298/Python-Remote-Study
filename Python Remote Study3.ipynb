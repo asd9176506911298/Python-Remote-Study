{
 "cells": [
  {
   "cell_type": "code",
   "execution_count": 5,
   "metadata": {},
   "outputs": [
    {
     "name": "stdout",
     "output_type": "stream",
     "text": [
      "測驗成績為\n",
      "Name   Score\n",
      "---------------\n",
      "Alan     59\n",
      "Stan     87\n",
      "Johnson  77\n",
      "Edward   66\n",
      "Caro     60\n",
      "Erica    25\n",
      "Ivan     79\n",
      "Grace    82\n",
      "Ken      98\n",
      "Greg     15\n",
      "Lily     47\n",
      "Bill      8\n",
      "--------------------\n",
      "最高分數為Ken 98\n",
      "最低分數為Bill 8\n",
      "總分分數為 703\n",
      "平均分數為 58.583333333333336\n"
     ]
    }
   ],
   "source": [
    "score = {'Alan':59, 'Stan':87, 'Johnson':77, 'Edward':66,\n",
    "         'Caro':60, 'Erica':25, 'Ivan':79, 'Grace':82,\n",
    "         'Ken':98, 'Greg':15, 'Lily':47, 'Bill':8}\n",
    "Sum = 0\n",
    "print('測驗成績為')\n",
    "print('Name   Score')\n",
    "print('---------------')\n",
    "for name,s in score.items():\n",
    "    #print('{:7s}{:4d}'.format(name, s))\n",
    "    #str.format()數值型別預設是靠右對齊，字串型別預設是靠左對齊\n",
    "    print('%-7s %3d' % (name, s))\n",
    "    Sum += s\n",
    "print('--------------------')\n",
    "\n",
    "Max_Score = max(zip(score.values(),score.keys()))\n",
    "Min_Score = min(zip(score.values(),score.keys()))\n",
    "#print('最高分數為{} {}'.format(Max_Score[1], Max_Score[0]))\n",
    "#print('最高分數為{1} {0}'.format(Max_Score[0], Max_Score[1]))\n",
    "#上面兩個是str.format()\n",
    "print('最高分數為%s %s' % (Max_Score[1], Max_Score[0]))\n",
    "print('最低分數為%s %s' % (Min_Score[1], Min_Score[0]))\n",
    "print('總分分數為', Sum)\n",
    "print('平均分數為', Sum/len(score))"
   ]
  },
  {
   "cell_type": "code",
   "execution_count": 4,
   "metadata": {},
   "outputs": [
    {
     "name": "stdout",
     "output_type": "stream",
     "text": [
      "成績高於80分為\n",
      "Name   Score\n",
      "---------------\n",
      "Stan    87\n",
      "Grace   82\n",
      "Ken     98\n",
      "80分以上的人數有 3 人。\n"
     ]
    }
   ],
   "source": [
    "score = {'Alan':59, 'Stan':87, 'Johnson':77, 'Edward':66,\n",
    "         'Caro':60, 'Erica':25, 'Ivan':79, 'Grace':82,\n",
    "         'Ken':98, 'Greg':15, 'Lily':47, 'Bill':8}\n",
    "count = 0\n",
    "#Pass = {}\n",
    "print('成績高於80分為')\n",
    "print('Name   Score')\n",
    "print('---------------')\n",
    "for name,s in score.items():\n",
    "    if s > 80:\n",
    "        print('%-7s %s' % (name, s))\n",
    "        #Pass.update({name:s})\n",
    "        #update dict的键/值对更新到dict里\n",
    "        count += 1\n",
    "#print('80分以上的人數有 %s 人。' % len(Pass))\n",
    "print('80分以上的人數有 %s 人。' % count)"
   ]
  },
  {
   "cell_type": "code",
   "execution_count": 3,
   "metadata": {},
   "outputs": [
    {
     "name": "stdout",
     "output_type": "stream",
     "text": [
      "分數遞增排序\n",
      "Name      Score\n",
      "---------------\n",
      "Bill      8\n",
      "Greg     15\n",
      "Erica    25\n",
      "Lily     47\n",
      "Alan     59\n",
      "Caro     60\n",
      "Edward   66\n",
      "Johnson  77\n",
      "Ivan     79\n",
      "Grace    82\n",
      "Stan     87\n",
      "Ken      98\n",
      "\n",
      "分數遞減排序\n",
      "Name      Score\n",
      "---------------\n",
      "Ken      98\n",
      "Stan     87\n",
      "Grace    82\n",
      "Ivan     79\n",
      "Johnson  77\n",
      "Edward   66\n",
      "Caro     60\n",
      "Alan     59\n",
      "Lily     47\n",
      "Erica    25\n",
      "Greg     15\n",
      "Bill      8\n"
     ]
    }
   ],
   "source": [
    "score = {'Alan':59, 'Stan':87, 'Johnson':77, 'Edward':66,\n",
    "         'Caro':60, 'Erica':25, 'Ivan':79, 'Grace':82,\n",
    "         'Ken':98, 'Greg':15, 'Lily':47, 'Bill':8}\n",
    "\n",
    "print('分數遞增排序')\n",
    "print('Name      Score')\n",
    "print('---------------')\n",
    "sorted_dict = {}\n",
    "sorted_keys = sorted(score, key=score.get)\n",
    "for s in sorted_keys:\n",
    "    sorted_dict[s] = score[s]\n",
    "\n",
    "for name, s in sorted_dict.items():\n",
    "    print('%-7s %3d' % (name, s))\n",
    "\n",
    "print()\n",
    "print('分數遞減排序')\n",
    "print('Name      Score')\n",
    "print('---------------')\n",
    "sorted_dict = {}\n",
    "sorted_keys = sorted(score, key=score.get, reverse=True)\n",
    "for s in sorted_keys:\n",
    "    sorted_dict[s] = score[s]\n",
    "\n",
    "for name, s in sorted_dict.items():\n",
    "    print('%-7s %3d' % (name, s))"
   ]
  }
 ],
 "metadata": {
  "kernelspec": {
   "display_name": "Python 3",
   "language": "python",
   "name": "python3"
  },
  "language_info": {
   "codemirror_mode": {
    "name": "ipython",
    "version": 3
   },
   "file_extension": ".py",
   "mimetype": "text/x-python",
   "name": "python",
   "nbconvert_exporter": "python",
   "pygments_lexer": "ipython3",
   "version": "3.8.5"
  }
 },
 "nbformat": 4,
 "nbformat_minor": 4
}

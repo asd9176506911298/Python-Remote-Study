{
 "cells": [
  {
   "cell_type": "code",
   "execution_count": 3,
   "metadata": {},
   "outputs": [
    {
     "name": "stdout",
     "output_type": "stream",
     "text": [
      "請輸入個數:5\n",
      "*****\n"
     ]
    }
   ],
   "source": [
    "def rpast(num):\n",
    "    print('*'*num)\n",
    "\n",
    "a = int(input('請輸入個數:'))\n",
    "rpast(a)"
   ]
  },
  {
   "cell_type": "code",
   "execution_count": 41,
   "metadata": {
    "scrolled": true
   },
   "outputs": [
    {
     "name": "stdout",
     "output_type": "stream",
     "text": [
      "請輸入字串:是。\n",
      "請輸入要重複的次數:5\n",
      "你輸入了字串 是。\n",
      "是。是。是。是。是。\n",
      "請輸入字串:\n",
      "請輸入要重複的次數:5\n",
      "您沒有輸入字串_ _ _\n",
      "*****\n"
     ]
    }
   ],
   "source": [
    "def rpstr(num, str='*'):\n",
    "    if(str == '*'):\n",
    "        print('您沒有輸入字串_ _ _')\n",
    "    else:\n",
    "        print('你輸入了字串',str)\n",
    "    print(str*num)\n",
    "\n",
    "for i in range(2):\n",
    "    s = input('請輸入字串:')\n",
    "    n = int(input('請輸入要重複的次數:'))\n",
    "\n",
    "    if(s == ''):\n",
    "        rpstr(n)\n",
    "    else:\n",
    "        rpstr(n, s)"
   ]
  },
  {
   "cell_type": "code",
   "execution_count": 49,
   "metadata": {},
   "outputs": [
    {
     "name": "stdout",
     "output_type": "stream",
     "text": [
      "請輸入開始值(整數):3\n",
      "請輸入結束值(整數):10\n",
      "3\n",
      "4\n",
      "5\n",
      "6\n",
      "7\n",
      "8\n",
      "9\n"
     ]
    }
   ],
   "source": [
    "def showX(start, end):\n",
    "    i = start\n",
    "    while i < end:\n",
    "        yield i\n",
    "        i += 1\n",
    "\n",
    "s = int(input('請輸入開始值(整數):'))\n",
    "e = int(input('請輸入結束值(整數):'))\n",
    "\n",
    "a = showX(s, e)\n",
    "\n",
    "for c in a:\n",
    "    print(c)"
   ]
  }
 ],
 "metadata": {
  "kernelspec": {
   "display_name": "Python 3",
   "language": "python",
   "name": "python3"
  },
  "language_info": {
   "codemirror_mode": {
    "name": "ipython",
    "version": 3
   },
   "file_extension": ".py",
   "mimetype": "text/x-python",
   "name": "python",
   "nbconvert_exporter": "python",
   "pygments_lexer": "ipython3",
   "version": "3.8.5"
  }
 },
 "nbformat": 4,
 "nbformat_minor": 4
}
